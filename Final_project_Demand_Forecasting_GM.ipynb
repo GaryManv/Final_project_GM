{
 "cells": [
  {
   "cell_type": "code",
   "execution_count": 247,
   "id": "844a5d17-c017-439a-a449-6a098d57cc69",
   "metadata": {
    "tags": []
   },
   "outputs": [
    {
     "data": {
      "text/html": [
       "<div>\n",
       "<style scoped>\n",
       "    .dataframe tbody tr th:only-of-type {\n",
       "        vertical-align: middle;\n",
       "    }\n",
       "\n",
       "    .dataframe tbody tr th {\n",
       "        vertical-align: top;\n",
       "    }\n",
       "\n",
       "    .dataframe thead th {\n",
       "        text-align: right;\n",
       "    }\n",
       "</style>\n",
       "<table border=\"1\" class=\"dataframe\">\n",
       "  <thead>\n",
       "    <tr style=\"text-align: right;\">\n",
       "      <th></th>\n",
       "      <th>Product_Code</th>\n",
       "      <th>Warehouse</th>\n",
       "      <th>Product_Category</th>\n",
       "      <th>Date</th>\n",
       "      <th>Order_Demand</th>\n",
       "    </tr>\n",
       "  </thead>\n",
       "  <tbody>\n",
       "    <tr>\n",
       "      <th>0</th>\n",
       "      <td>Product_0993</td>\n",
       "      <td>Whse_J</td>\n",
       "      <td>Category_028</td>\n",
       "      <td>2012/7/27</td>\n",
       "      <td>100</td>\n",
       "    </tr>\n",
       "    <tr>\n",
       "      <th>1</th>\n",
       "      <td>Product_0979</td>\n",
       "      <td>Whse_J</td>\n",
       "      <td>Category_028</td>\n",
       "      <td>2012/1/19</td>\n",
       "      <td>500</td>\n",
       "    </tr>\n",
       "    <tr>\n",
       "      <th>2</th>\n",
       "      <td>Product_0979</td>\n",
       "      <td>Whse_J</td>\n",
       "      <td>Category_028</td>\n",
       "      <td>2012/2/3</td>\n",
       "      <td>500</td>\n",
       "    </tr>\n",
       "    <tr>\n",
       "      <th>3</th>\n",
       "      <td>Product_0979</td>\n",
       "      <td>Whse_J</td>\n",
       "      <td>Category_028</td>\n",
       "      <td>2012/2/9</td>\n",
       "      <td>500</td>\n",
       "    </tr>\n",
       "    <tr>\n",
       "      <th>4</th>\n",
       "      <td>Product_0979</td>\n",
       "      <td>Whse_J</td>\n",
       "      <td>Category_028</td>\n",
       "      <td>2012/3/2</td>\n",
       "      <td>500</td>\n",
       "    </tr>\n",
       "  </tbody>\n",
       "</table>\n",
       "</div>"
      ],
      "text/plain": [
       "   Product_Code Warehouse Product_Category       Date Order_Demand\n",
       "0  Product_0993    Whse_J     Category_028  2012/7/27         100 \n",
       "1  Product_0979    Whse_J     Category_028  2012/1/19         500 \n",
       "2  Product_0979    Whse_J     Category_028   2012/2/3         500 \n",
       "3  Product_0979    Whse_J     Category_028   2012/2/9         500 \n",
       "4  Product_0979    Whse_J     Category_028   2012/3/2         500 "
      ]
     },
     "execution_count": 247,
     "metadata": {},
     "output_type": "execute_result"
    }
   ],
   "source": [
    "# import and preview of the dataset\n",
    "import pandas as pd\n",
    "data=pd.read_csv('Historical Product Demand.csv') \n",
    "df=pd.DataFrame(data)\n",
    "df.head()"
   ]
  },
  {
   "cell_type": "markdown",
   "id": "867fcff5-5d12-4a31-99c2-86b6ef09e799",
   "metadata": {},
   "source": [
    "<b>Obtaining information about the structure and characteristics of the df DataFrame (Historical Product Demand)</b>"
   ]
  },
  {
   "cell_type": "code",
   "execution_count": 248,
   "id": "17f11881-dec6-4257-9d5a-7e8ae4972f6a",
   "metadata": {},
   "outputs": [
    {
     "data": {
      "text/plain": [
       "(1048575, 5)"
      ]
     },
     "execution_count": 248,
     "metadata": {},
     "output_type": "execute_result"
    }
   ],
   "source": [
    "df.shape"
   ]
  },
  {
   "cell_type": "code",
   "execution_count": 249,
   "id": "4b235fb2-054f-4994-a063-17787fa1f7ff",
   "metadata": {
    "tags": []
   },
   "outputs": [
    {
     "name": "stdout",
     "output_type": "stream",
     "text": [
      "<class 'pandas.core.frame.DataFrame'>\n",
      "RangeIndex: 1048575 entries, 0 to 1048574\n",
      "Data columns (total 5 columns):\n",
      " #   Column            Non-Null Count    Dtype \n",
      "---  ------            --------------    ----- \n",
      " 0   Product_Code      1048575 non-null  object\n",
      " 1   Warehouse         1048575 non-null  object\n",
      " 2   Product_Category  1048575 non-null  object\n",
      " 3   Date              1037336 non-null  object\n",
      " 4   Order_Demand      1048575 non-null  object\n",
      "dtypes: object(5)\n",
      "memory usage: 40.0+ MB\n"
     ]
    }
   ],
   "source": [
    "df.info()"
   ]
  },
  {
   "cell_type": "markdown",
   "id": "5ffd3b93-f5a3-4ebd-b70a-71576a1a8cd1",
   "metadata": {
    "tags": []
   },
   "source": [
    "<i>Null values detected in Date column. To remove.<br>\n",
    "Data Types for Date and Order_Demand stated as \"object\". To change to DateTime and Int64 accordingly.</i>"
   ]
  },
  {
   "cell_type": "code",
   "execution_count": 250,
   "id": "b4415490-b4d2-46f3-9165-c2fe2b9732b1",
   "metadata": {
    "tags": []
   },
   "outputs": [],
   "source": [
    "# updating datatypes\n",
    "df['Date'] = pd.to_datetime(df['Date'])\n",
    "# adding new column to see which values were converted to NaN if any\n",
    "df['Order_Demand_Updated'] = pd.to_numeric(df['Order_Demand'],errors='coerce',downcast='integer')"
   ]
  },
  {
   "cell_type": "code",
   "execution_count": 251,
   "id": "a82d92b0-9cb1-4867-83bc-34c34644387c",
   "metadata": {
    "tags": []
   },
   "outputs": [
    {
     "name": "stdout",
     "output_type": "stream",
     "text": [
      "<class 'pandas.core.frame.DataFrame'>\n",
      "RangeIndex: 1048575 entries, 0 to 1048574\n",
      "Data columns (total 6 columns):\n",
      " #   Column                Non-Null Count    Dtype         \n",
      "---  ------                --------------    -----         \n",
      " 0   Product_Code          1048575 non-null  object        \n",
      " 1   Warehouse             1048575 non-null  object        \n",
      " 2   Product_Category      1048575 non-null  object        \n",
      " 3   Date                  1037336 non-null  datetime64[ns]\n",
      " 4   Order_Demand          1048575 non-null  object        \n",
      " 5   Order_Demand_Updated  1038106 non-null  float64       \n",
      "dtypes: datetime64[ns](1), float64(1), object(4)\n",
      "memory usage: 48.0+ MB\n"
     ]
    }
   ],
   "source": [
    "df.info() # re-checking data types"
   ]
  },
  {
   "cell_type": "code",
   "execution_count": 252,
   "id": "4859847d-8ff0-4968-ace3-94ce825a6cbd",
   "metadata": {
    "tags": []
   },
   "outputs": [
    {
     "data": {
      "text/html": [
       "<div>\n",
       "<style scoped>\n",
       "    .dataframe tbody tr th:only-of-type {\n",
       "        vertical-align: middle;\n",
       "    }\n",
       "\n",
       "    .dataframe tbody tr th {\n",
       "        vertical-align: top;\n",
       "    }\n",
       "\n",
       "    .dataframe thead th {\n",
       "        text-align: right;\n",
       "    }\n",
       "</style>\n",
       "<table border=\"1\" class=\"dataframe\">\n",
       "  <thead>\n",
       "    <tr style=\"text-align: right;\">\n",
       "      <th></th>\n",
       "      <th>Product_Code</th>\n",
       "      <th>Warehouse</th>\n",
       "      <th>Product_Category</th>\n",
       "      <th>Date</th>\n",
       "      <th>Order_Demand</th>\n",
       "      <th>Order_Demand_Updated</th>\n",
       "    </tr>\n",
       "  </thead>\n",
       "  <tbody>\n",
       "    <tr>\n",
       "      <th>112290</th>\n",
       "      <td>Product_2169</td>\n",
       "      <td>Whse_A</td>\n",
       "      <td>Category_024</td>\n",
       "      <td>2012-08-09</td>\n",
       "      <td>(1)</td>\n",
       "      <td>NaN</td>\n",
       "    </tr>\n",
       "    <tr>\n",
       "      <th>112307</th>\n",
       "      <td>Product_2132</td>\n",
       "      <td>Whse_A</td>\n",
       "      <td>Category_009</td>\n",
       "      <td>2012-11-01</td>\n",
       "      <td>(24)</td>\n",
       "      <td>NaN</td>\n",
       "    </tr>\n",
       "    <tr>\n",
       "      <th>112308</th>\n",
       "      <td>Product_2144</td>\n",
       "      <td>Whse_A</td>\n",
       "      <td>Category_009</td>\n",
       "      <td>2012-11-01</td>\n",
       "      <td>(24)</td>\n",
       "      <td>NaN</td>\n",
       "    </tr>\n",
       "    <tr>\n",
       "      <th>112356</th>\n",
       "      <td>Product_2118</td>\n",
       "      <td>Whse_A</td>\n",
       "      <td>Category_009</td>\n",
       "      <td>2012-03-07</td>\n",
       "      <td>(50)</td>\n",
       "      <td>NaN</td>\n",
       "    </tr>\n",
       "    <tr>\n",
       "      <th>112357</th>\n",
       "      <td>Product_2120</td>\n",
       "      <td>Whse_A</td>\n",
       "      <td>Category_009</td>\n",
       "      <td>2012-03-07</td>\n",
       "      <td>(100)</td>\n",
       "      <td>NaN</td>\n",
       "    </tr>\n",
       "  </tbody>\n",
       "</table>\n",
       "</div>"
      ],
      "text/plain": [
       "        Product_Code Warehouse Product_Category       Date Order_Demand  \\\n",
       "112290  Product_2169    Whse_A     Category_024 2012-08-09          (1)   \n",
       "112307  Product_2132    Whse_A     Category_009 2012-11-01         (24)   \n",
       "112308  Product_2144    Whse_A     Category_009 2012-11-01         (24)   \n",
       "112356  Product_2118    Whse_A     Category_009 2012-03-07         (50)   \n",
       "112357  Product_2120    Whse_A     Category_009 2012-03-07        (100)   \n",
       "\n",
       "        Order_Demand_Updated  \n",
       "112290                   NaN  \n",
       "112307                   NaN  \n",
       "112308                   NaN  \n",
       "112356                   NaN  \n",
       "112357                   NaN  "
      ]
     },
     "execution_count": 252,
     "metadata": {},
     "output_type": "execute_result"
    }
   ],
   "source": [
    "data_nan = df[df['Order_Demand_Updated'].isna()]\n",
    "data_nan.head()"
   ]
  },
  {
   "cell_type": "markdown",
   "id": "5dff5180-6eb2-4b48-9754-0ae8af912aac",
   "metadata": {},
   "source": [
    "<u>Note:</u> Negative values are enclosed within brackets, rather than using a minus sign. This caused issues during the conversion from object to numeric data type, and it requires correction."
   ]
  },
  {
   "cell_type": "code",
   "execution_count": 253,
   "id": "253e2f93-fdba-4fb4-a613-d9f81f64b4e7",
   "metadata": {
    "tags": []
   },
   "outputs": [],
   "source": [
    "# Custom function to convert values with brackets to integers\n",
    "def convert_to_integer(value):\n",
    "    try:\n",
    "        return int(value)\n",
    "    except ValueError:\n",
    "        # Handle values with brackets for negative numbers\n",
    "        try:\n",
    "            return -int(value.strip('()'))\n",
    "        except ValueError:\n",
    "            return None  # Handle other non-convertible values as needed"
   ]
  },
  {
   "cell_type": "code",
   "execution_count": null,
   "id": "29e2db54-e276-434c-a714-5c31186054ca",
   "metadata": {},
   "outputs": [],
   "source": []
  },
  {
   "cell_type": "code",
   "execution_count": 254,
   "id": "2a39af3d-5c33-47ea-98af-260a8d160f21",
   "metadata": {
    "tags": []
   },
   "outputs": [],
   "source": [
    "# adding another column to compare with primary data\n",
    "df['Order_Demand_Updated2'] = df['Order_Demand'].apply(convert_to_integer)\n"
   ]
  },
  {
   "cell_type": "code",
   "execution_count": 255,
   "id": "af7ce632-8e72-41cb-ae53-4058bd7786ea",
   "metadata": {
    "tags": []
   },
   "outputs": [
    {
     "name": "stderr",
     "output_type": "stream",
     "text": [
      "C:\\Users\\gareg\\AppData\\Local\\Temp\\ipykernel_14700\\2884002236.py:1: FutureWarning: Treating datetime data as categorical rather than numeric in `.describe` is deprecated and will be removed in a future version of pandas. Specify `datetime_is_numeric=True` to silence this warning and adopt the future behavior now.\n",
      "  df.describe(include='all')\n"
     ]
    },
    {
     "data": {
      "text/html": [
       "<div>\n",
       "<style scoped>\n",
       "    .dataframe tbody tr th:only-of-type {\n",
       "        vertical-align: middle;\n",
       "    }\n",
       "\n",
       "    .dataframe tbody tr th {\n",
       "        vertical-align: top;\n",
       "    }\n",
       "\n",
       "    .dataframe thead th {\n",
       "        text-align: right;\n",
       "    }\n",
       "</style>\n",
       "<table border=\"1\" class=\"dataframe\">\n",
       "  <thead>\n",
       "    <tr style=\"text-align: right;\">\n",
       "      <th></th>\n",
       "      <th>Product_Code</th>\n",
       "      <th>Warehouse</th>\n",
       "      <th>Product_Category</th>\n",
       "      <th>Date</th>\n",
       "      <th>Order_Demand</th>\n",
       "      <th>Order_Demand_Updated</th>\n",
       "      <th>Order_Demand_Updated2</th>\n",
       "    </tr>\n",
       "  </thead>\n",
       "  <tbody>\n",
       "    <tr>\n",
       "      <th>count</th>\n",
       "      <td>1048575</td>\n",
       "      <td>1048575</td>\n",
       "      <td>1048575</td>\n",
       "      <td>1037336</td>\n",
       "      <td>1048575</td>\n",
       "      <td>1.038106e+06</td>\n",
       "      <td>1.048575e+06</td>\n",
       "    </tr>\n",
       "    <tr>\n",
       "      <th>unique</th>\n",
       "      <td>2160</td>\n",
       "      <td>4</td>\n",
       "      <td>33</td>\n",
       "      <td>1729</td>\n",
       "      <td>3828</td>\n",
       "      <td>NaN</td>\n",
       "      <td>NaN</td>\n",
       "    </tr>\n",
       "    <tr>\n",
       "      <th>top</th>\n",
       "      <td>Product_1359</td>\n",
       "      <td>Whse_J</td>\n",
       "      <td>Category_019</td>\n",
       "      <td>2013-09-27 00:00:00</td>\n",
       "      <td>1000</td>\n",
       "      <td>NaN</td>\n",
       "      <td>NaN</td>\n",
       "    </tr>\n",
       "    <tr>\n",
       "      <th>freq</th>\n",
       "      <td>16936</td>\n",
       "      <td>764447</td>\n",
       "      <td>481099</td>\n",
       "      <td>2075</td>\n",
       "      <td>112682</td>\n",
       "      <td>NaN</td>\n",
       "      <td>NaN</td>\n",
       "    </tr>\n",
       "    <tr>\n",
       "      <th>first</th>\n",
       "      <td>NaN</td>\n",
       "      <td>NaN</td>\n",
       "      <td>NaN</td>\n",
       "      <td>2011-01-08 00:00:00</td>\n",
       "      <td>NaN</td>\n",
       "      <td>NaN</td>\n",
       "      <td>NaN</td>\n",
       "    </tr>\n",
       "    <tr>\n",
       "      <th>last</th>\n",
       "      <td>NaN</td>\n",
       "      <td>NaN</td>\n",
       "      <td>NaN</td>\n",
       "      <td>2017-01-09 00:00:00</td>\n",
       "      <td>NaN</td>\n",
       "      <td>NaN</td>\n",
       "      <td>NaN</td>\n",
       "    </tr>\n",
       "    <tr>\n",
       "      <th>mean</th>\n",
       "      <td>NaN</td>\n",
       "      <td>NaN</td>\n",
       "      <td>NaN</td>\n",
       "      <td>NaN</td>\n",
       "      <td>NaN</td>\n",
       "      <td>4.936488e+03</td>\n",
       "      <td>4.867427e+03</td>\n",
       "    </tr>\n",
       "    <tr>\n",
       "      <th>std</th>\n",
       "      <td>NaN</td>\n",
       "      <td>NaN</td>\n",
       "      <td>NaN</td>\n",
       "      <td>NaN</td>\n",
       "      <td>NaN</td>\n",
       "      <td>2.902462e+04</td>\n",
       "      <td>2.893346e+04</td>\n",
       "    </tr>\n",
       "    <tr>\n",
       "      <th>min</th>\n",
       "      <td>NaN</td>\n",
       "      <td>NaN</td>\n",
       "      <td>NaN</td>\n",
       "      <td>NaN</td>\n",
       "      <td>NaN</td>\n",
       "      <td>0.000000e+00</td>\n",
       "      <td>-9.990000e+05</td>\n",
       "    </tr>\n",
       "    <tr>\n",
       "      <th>25%</th>\n",
       "      <td>NaN</td>\n",
       "      <td>NaN</td>\n",
       "      <td>NaN</td>\n",
       "      <td>NaN</td>\n",
       "      <td>NaN</td>\n",
       "      <td>2.000000e+01</td>\n",
       "      <td>1.800000e+01</td>\n",
       "    </tr>\n",
       "    <tr>\n",
       "      <th>50%</th>\n",
       "      <td>NaN</td>\n",
       "      <td>NaN</td>\n",
       "      <td>NaN</td>\n",
       "      <td>NaN</td>\n",
       "      <td>NaN</td>\n",
       "      <td>3.000000e+02</td>\n",
       "      <td>3.000000e+02</td>\n",
       "    </tr>\n",
       "    <tr>\n",
       "      <th>75%</th>\n",
       "      <td>NaN</td>\n",
       "      <td>NaN</td>\n",
       "      <td>NaN</td>\n",
       "      <td>NaN</td>\n",
       "      <td>NaN</td>\n",
       "      <td>2.000000e+03</td>\n",
       "      <td>2.000000e+03</td>\n",
       "    </tr>\n",
       "    <tr>\n",
       "      <th>max</th>\n",
       "      <td>NaN</td>\n",
       "      <td>NaN</td>\n",
       "      <td>NaN</td>\n",
       "      <td>NaN</td>\n",
       "      <td>NaN</td>\n",
       "      <td>4.000000e+06</td>\n",
       "      <td>4.000000e+06</td>\n",
       "    </tr>\n",
       "  </tbody>\n",
       "</table>\n",
       "</div>"
      ],
      "text/plain": [
       "        Product_Code Warehouse Product_Category                 Date  \\\n",
       "count        1048575   1048575          1048575              1037336   \n",
       "unique          2160         4               33                 1729   \n",
       "top     Product_1359    Whse_J     Category_019  2013-09-27 00:00:00   \n",
       "freq           16936    764447           481099                 2075   \n",
       "first            NaN       NaN              NaN  2011-01-08 00:00:00   \n",
       "last             NaN       NaN              NaN  2017-01-09 00:00:00   \n",
       "mean             NaN       NaN              NaN                  NaN   \n",
       "std              NaN       NaN              NaN                  NaN   \n",
       "min              NaN       NaN              NaN                  NaN   \n",
       "25%              NaN       NaN              NaN                  NaN   \n",
       "50%              NaN       NaN              NaN                  NaN   \n",
       "75%              NaN       NaN              NaN                  NaN   \n",
       "max              NaN       NaN              NaN                  NaN   \n",
       "\n",
       "       Order_Demand  Order_Demand_Updated  Order_Demand_Updated2  \n",
       "count       1048575          1.038106e+06           1.048575e+06  \n",
       "unique         3828                   NaN                    NaN  \n",
       "top           1000                    NaN                    NaN  \n",
       "freq         112682                   NaN                    NaN  \n",
       "first           NaN                   NaN                    NaN  \n",
       "last            NaN                   NaN                    NaN  \n",
       "mean            NaN          4.936488e+03           4.867427e+03  \n",
       "std             NaN          2.902462e+04           2.893346e+04  \n",
       "min             NaN          0.000000e+00          -9.990000e+05  \n",
       "25%             NaN          2.000000e+01           1.800000e+01  \n",
       "50%             NaN          3.000000e+02           3.000000e+02  \n",
       "75%             NaN          2.000000e+03           2.000000e+03  \n",
       "max             NaN          4.000000e+06           4.000000e+06  "
      ]
     },
     "execution_count": 255,
     "metadata": {},
     "output_type": "execute_result"
    }
   ],
   "source": [
    "df.describe(include='all')"
   ]
  },
  {
   "cell_type": "markdown",
   "id": "942cbb4a-dda1-4afe-a25c-56969aeced4d",
   "metadata": {
    "tags": []
   },
   "source": [
    "\n",
    "<i><b>Summary:</b> <br>The dataset consist of approximately 5 years historical data and contains 2,160 unique products distributed across 4 warehouses and belonging to 33 product categories.<br> The 'min' value in 'Order_Demand' columns indicates negative demand, likely corresponding to product return operations. It is necessary to remove both negative and corresponding positive demand entries to get real demand pattern.</i>"
   ]
  },
  {
   "cell_type": "code",
   "execution_count": 256,
   "id": "a3ec5e8b-2997-4cbe-804c-8f4ea7ab13ef",
   "metadata": {
    "tags": []
   },
   "outputs": [
    {
     "data": {
      "text/html": [
       "<div>\n",
       "<style scoped>\n",
       "    .dataframe tbody tr th:only-of-type {\n",
       "        vertical-align: middle;\n",
       "    }\n",
       "\n",
       "    .dataframe tbody tr th {\n",
       "        vertical-align: top;\n",
       "    }\n",
       "\n",
       "    .dataframe thead th {\n",
       "        text-align: right;\n",
       "    }\n",
       "</style>\n",
       "<table border=\"1\" class=\"dataframe\">\n",
       "  <thead>\n",
       "    <tr style=\"text-align: right;\">\n",
       "      <th></th>\n",
       "      <th>Product_Code</th>\n",
       "      <th>Warehouse</th>\n",
       "      <th>Product_Category</th>\n",
       "      <th>Date</th>\n",
       "      <th>Order_Demand</th>\n",
       "      <th>Order_Demand_Updated</th>\n",
       "      <th>Order_Demand_Updated2</th>\n",
       "    </tr>\n",
       "  </thead>\n",
       "  <tbody>\n",
       "    <tr>\n",
       "      <th>45460</th>\n",
       "      <td>Product_1461</td>\n",
       "      <td>Whse_A</td>\n",
       "      <td>Category_019</td>\n",
       "      <td>NaT</td>\n",
       "      <td>10000</td>\n",
       "      <td>10000.0</td>\n",
       "      <td>10000</td>\n",
       "    </tr>\n",
       "    <tr>\n",
       "      <th>456373</th>\n",
       "      <td>Product_1636</td>\n",
       "      <td>Whse_A</td>\n",
       "      <td>Category_019</td>\n",
       "      <td>NaT</td>\n",
       "      <td>100</td>\n",
       "      <td>100.0</td>\n",
       "      <td>100</td>\n",
       "    </tr>\n",
       "    <tr>\n",
       "      <th>456374</th>\n",
       "      <td>Product_1461</td>\n",
       "      <td>Whse_A</td>\n",
       "      <td>Category_019</td>\n",
       "      <td>NaT</td>\n",
       "      <td>300</td>\n",
       "      <td>300.0</td>\n",
       "      <td>300</td>\n",
       "    </tr>\n",
       "    <tr>\n",
       "      <th>456375</th>\n",
       "      <td>Product_1464</td>\n",
       "      <td>Whse_A</td>\n",
       "      <td>Category_019</td>\n",
       "      <td>NaT</td>\n",
       "      <td>300</td>\n",
       "      <td>300.0</td>\n",
       "      <td>300</td>\n",
       "    </tr>\n",
       "    <tr>\n",
       "      <th>456376</th>\n",
       "      <td>Product_1388</td>\n",
       "      <td>Whse_A</td>\n",
       "      <td>Category_019</td>\n",
       "      <td>NaT</td>\n",
       "      <td>200</td>\n",
       "      <td>200.0</td>\n",
       "      <td>200</td>\n",
       "    </tr>\n",
       "  </tbody>\n",
       "</table>\n",
       "</div>"
      ],
      "text/plain": [
       "        Product_Code Warehouse Product_Category Date Order_Demand  \\\n",
       "45460   Product_1461    Whse_A     Category_019  NaT       10000    \n",
       "456373  Product_1636    Whse_A     Category_019  NaT         100    \n",
       "456374  Product_1461    Whse_A     Category_019  NaT         300    \n",
       "456375  Product_1464    Whse_A     Category_019  NaT         300    \n",
       "456376  Product_1388    Whse_A     Category_019  NaT         200    \n",
       "\n",
       "        Order_Demand_Updated  Order_Demand_Updated2  \n",
       "45460                10000.0                  10000  \n",
       "456373                 100.0                    100  \n",
       "456374                 300.0                    300  \n",
       "456375                 300.0                    300  \n",
       "456376                 200.0                    200  "
      ]
     },
     "execution_count": 256,
     "metadata": {},
     "output_type": "execute_result"
    }
   ],
   "source": [
    "# check what NaN is for Date column\n",
    "data_nan_date=df[df['Date'].isna()]\n",
    "data_nan_date.head()"
   ]
  },
  {
   "cell_type": "code",
   "execution_count": 257,
   "id": "30d5987d-b6bb-4802-822a-cab0c8ce5780",
   "metadata": {
    "tags": []
   },
   "outputs": [],
   "source": [
    "# remove rows with NaN dates\n",
    "df.dropna(subset=['Date'], inplace=True)\n",
    "\n",
    "# remove Order_Demand_Updated and Order_Demand_Updated2 as they were added to see the difference and result of our updates\n",
    "df.drop(['Order_Demand_Updated','Order_Demand_Updated2'],axis=1,inplace=True)\n",
    "\n"
   ]
  },
  {
   "cell_type": "code",
   "execution_count": null,
   "id": "09de98ec-7262-4e3c-a309-2c2779dd3e09",
   "metadata": {
    "tags": []
   },
   "outputs": [],
   "source": []
  },
  {
   "cell_type": "code",
   "execution_count": 258,
   "id": "1345b28d-a7fe-4092-a970-5b6e9d177bac",
   "metadata": {
    "tags": []
   },
   "outputs": [],
   "source": [
    "# converting Order_Demand to integer\n",
    "df['Order_Demand'] = df['Order_Demand'].apply(convert_to_integer)"
   ]
  },
  {
   "cell_type": "code",
   "execution_count": 259,
   "id": "4506084f-8054-4cb8-a568-f979bc16899c",
   "metadata": {
    "tags": []
   },
   "outputs": [],
   "source": [
    "# remove rows with 0 order demand\n",
    "df = df[df['Order_Demand'] != 0]"
   ]
  },
  {
   "cell_type": "code",
   "execution_count": 260,
   "id": "a0ccfcf6-89d0-486b-b94e-0eb81c18d274",
   "metadata": {
    "tags": []
   },
   "outputs": [
    {
     "name": "stdout",
     "output_type": "stream",
     "text": [
      "<class 'pandas.core.frame.DataFrame'>\n",
      "Int64Index: 1008664 entries, 0 to 1048574\n",
      "Data columns (total 5 columns):\n",
      " #   Column            Non-Null Count    Dtype         \n",
      "---  ------            --------------    -----         \n",
      " 0   Product_Code      1008664 non-null  object        \n",
      " 1   Warehouse         1008664 non-null  object        \n",
      " 2   Product_Category  1008664 non-null  object        \n",
      " 3   Date              1008664 non-null  datetime64[ns]\n",
      " 4   Order_Demand      1008664 non-null  int64         \n",
      "dtypes: datetime64[ns](1), int64(1), object(3)\n",
      "memory usage: 46.2+ MB\n"
     ]
    }
   ],
   "source": [
    "df.info()"
   ]
  },
  {
   "cell_type": "code",
   "execution_count": 261,
   "id": "674a0018-bea6-49fa-b614-8d7c393d3d43",
   "metadata": {
    "tags": []
   },
   "outputs": [
    {
     "data": {
      "text/html": [
       "<div>\n",
       "<style scoped>\n",
       "    .dataframe tbody tr th:only-of-type {\n",
       "        vertical-align: middle;\n",
       "    }\n",
       "\n",
       "    .dataframe tbody tr th {\n",
       "        vertical-align: top;\n",
       "    }\n",
       "\n",
       "    .dataframe thead th {\n",
       "        text-align: right;\n",
       "    }\n",
       "</style>\n",
       "<table border=\"1\" class=\"dataframe\">\n",
       "  <thead>\n",
       "    <tr style=\"text-align: right;\">\n",
       "      <th></th>\n",
       "      <th>Product_Code</th>\n",
       "      <th>Warehouse</th>\n",
       "      <th>Product_Category</th>\n",
       "      <th>Date</th>\n",
       "      <th>Order_Demand</th>\n",
       "    </tr>\n",
       "  </thead>\n",
       "  <tbody>\n",
       "    <tr>\n",
       "      <th>0</th>\n",
       "      <td>Product_0993</td>\n",
       "      <td>Whse_J</td>\n",
       "      <td>Category_028</td>\n",
       "      <td>2012-07-27</td>\n",
       "      <td>100</td>\n",
       "    </tr>\n",
       "    <tr>\n",
       "      <th>1</th>\n",
       "      <td>Product_0979</td>\n",
       "      <td>Whse_J</td>\n",
       "      <td>Category_028</td>\n",
       "      <td>2012-01-19</td>\n",
       "      <td>500</td>\n",
       "    </tr>\n",
       "    <tr>\n",
       "      <th>2</th>\n",
       "      <td>Product_0979</td>\n",
       "      <td>Whse_J</td>\n",
       "      <td>Category_028</td>\n",
       "      <td>2012-02-03</td>\n",
       "      <td>500</td>\n",
       "    </tr>\n",
       "    <tr>\n",
       "      <th>3</th>\n",
       "      <td>Product_0979</td>\n",
       "      <td>Whse_J</td>\n",
       "      <td>Category_028</td>\n",
       "      <td>2012-02-09</td>\n",
       "      <td>500</td>\n",
       "    </tr>\n",
       "    <tr>\n",
       "      <th>4</th>\n",
       "      <td>Product_0979</td>\n",
       "      <td>Whse_J</td>\n",
       "      <td>Category_028</td>\n",
       "      <td>2012-03-02</td>\n",
       "      <td>500</td>\n",
       "    </tr>\n",
       "  </tbody>\n",
       "</table>\n",
       "</div>"
      ],
      "text/plain": [
       "   Product_Code Warehouse Product_Category       Date  Order_Demand\n",
       "0  Product_0993    Whse_J     Category_028 2012-07-27           100\n",
       "1  Product_0979    Whse_J     Category_028 2012-01-19           500\n",
       "2  Product_0979    Whse_J     Category_028 2012-02-03           500\n",
       "3  Product_0979    Whse_J     Category_028 2012-02-09           500\n",
       "4  Product_0979    Whse_J     Category_028 2012-03-02           500"
      ]
     },
     "execution_count": 261,
     "metadata": {},
     "output_type": "execute_result"
    }
   ],
   "source": [
    "df.head()"
   ]
  },
  {
   "cell_type": "code",
   "execution_count": 262,
   "id": "d219b710-bc2a-4046-af18-204217f7222e",
   "metadata": {
    "tags": []
   },
   "outputs": [
    {
     "name": "stdout",
     "output_type": "stream",
     "text": [
      "Negative Value Count: 5899\n",
      "990924   -1\n",
      "603818   -1\n",
      "187255   -1\n",
      "768838   -1\n",
      "398251   -1\n",
      "Name: Order_Demand, dtype: int64\n"
     ]
    }
   ],
   "source": [
    "# creating series (series_negative) with extracted indices with negative values\n",
    "df_sorted=df['Order_Demand'].sort_values()\n",
    "df_sorted.head()\n",
    "negative_value_count = df[df['Order_Demand'] < 0]['Order_Demand'].count()\n",
    "print(\"Negative Value Count:\", negative_value_count)\n",
    "series_negative=df_sorted[0:negative_value_count]\n",
    "print(series_negative.tail())"
   ]
  },
  {
   "cell_type": "code",
   "execution_count": 263,
   "id": "59825322-5eaa-46be-b30b-df6bd274268c",
   "metadata": {
    "tags": []
   },
   "outputs": [
    {
     "name": "stdout",
     "output_type": "stream",
     "text": [
      "26 rows with negative Order_Demand value were dropped as they didn't have any positive pair\n"
     ]
    }
   ],
   "source": [
    "# Dropping rows with negative values in Order_Demand which don't have positive pairs (can explain their existance)\n",
    "series_negative_pairs=[]\n",
    "number_of_single_negatives=0\n",
    "for index_negative, value_negative in series_negative.items():\n",
    "    # Check if the absolute of negative value exists in the 'Order_Demand' column\n",
    "    value_exists = (df['Order_Demand'] == abs(value_negative)).any()\n",
    "    if not value_exists:\n",
    "        df.drop(index=index_negative, inplace=True)\n",
    "        number_of_single_negatives+=1\n",
    "    else :\n",
    "        series_negative_pairs.append(( index_negative,value_negative))\n",
    "        \n",
    "print(f\"{number_of_single_negatives} rows with negative Order_Demand value were dropped as they didn't have any positive pair\")\n"
   ]
  },
  {
   "cell_type": "code",
   "execution_count": 264,
   "id": "878b781a-50fd-46ae-b63a-3fac371bc18d",
   "metadata": {
    "tags": []
   },
   "outputs": [],
   "source": [
    "# preparing to remove negative and possitive pair. \"For loop\" can't be used as it's very time consuming for this quantites.\n",
    "\n",
    "# convert all negative values in Order_Demand to positive ones (info about them beeing them negative is stored in series_negative_pairs)\n",
    "\n",
    "df['Order_Demand'] = df['Order_Demand'].abs()\n",
    "\n",
    "# Sort by 'Order_Demand' and then by 'Date'\n",
    "df.sort_values(by=['Order_Demand', 'Date'], inplace=True)"
   ]
  },
  {
   "cell_type": "code",
   "execution_count": 265,
   "id": "8b527e4a-4ed0-4332-b005-4093e0ee33cc",
   "metadata": {
    "tags": []
   },
   "outputs": [
    {
     "data": {
      "text/html": [
       "<div>\n",
       "<style scoped>\n",
       "    .dataframe tbody tr th:only-of-type {\n",
       "        vertical-align: middle;\n",
       "    }\n",
       "\n",
       "    .dataframe tbody tr th {\n",
       "        vertical-align: top;\n",
       "    }\n",
       "\n",
       "    .dataframe thead th {\n",
       "        text-align: right;\n",
       "    }\n",
       "</style>\n",
       "<table border=\"1\" class=\"dataframe\">\n",
       "  <thead>\n",
       "    <tr style=\"text-align: right;\">\n",
       "      <th></th>\n",
       "      <th>Product_Code</th>\n",
       "      <th>Warehouse</th>\n",
       "      <th>Product_Category</th>\n",
       "      <th>Date</th>\n",
       "      <th>Order_Demand</th>\n",
       "    </tr>\n",
       "  </thead>\n",
       "  <tbody>\n",
       "    <tr>\n",
       "      <th>44795</th>\n",
       "      <td>Product_0965</td>\n",
       "      <td>Whse_A</td>\n",
       "      <td>Category_006</td>\n",
       "      <td>2011-11-18</td>\n",
       "      <td>1</td>\n",
       "    </tr>\n",
       "    <tr>\n",
       "      <th>93055</th>\n",
       "      <td>Product_0504</td>\n",
       "      <td>Whse_J</td>\n",
       "      <td>Category_015</td>\n",
       "      <td>2011-12-05</td>\n",
       "      <td>1</td>\n",
       "    </tr>\n",
       "    <tr>\n",
       "      <th>130643</th>\n",
       "      <td>Product_2165</td>\n",
       "      <td>Whse_C</td>\n",
       "      <td>Category_024</td>\n",
       "      <td>2011-12-06</td>\n",
       "      <td>1</td>\n",
       "    </tr>\n",
       "    <tr>\n",
       "      <th>37485</th>\n",
       "      <td>Product_1699</td>\n",
       "      <td>Whse_J</td>\n",
       "      <td>Category_026</td>\n",
       "      <td>2011-12-07</td>\n",
       "      <td>1</td>\n",
       "    </tr>\n",
       "    <tr>\n",
       "      <th>77277</th>\n",
       "      <td>Product_1680</td>\n",
       "      <td>Whse_S</td>\n",
       "      <td>Category_021</td>\n",
       "      <td>2011-12-09</td>\n",
       "      <td>1</td>\n",
       "    </tr>\n",
       "  </tbody>\n",
       "</table>\n",
       "</div>"
      ],
      "text/plain": [
       "        Product_Code Warehouse Product_Category       Date  Order_Demand\n",
       "44795   Product_0965    Whse_A     Category_006 2011-11-18             1\n",
       "93055   Product_0504    Whse_J     Category_015 2011-12-05             1\n",
       "130643  Product_2165    Whse_C     Category_024 2011-12-06             1\n",
       "37485   Product_1699    Whse_J     Category_026 2011-12-07             1\n",
       "77277   Product_1680    Whse_S     Category_021 2011-12-09             1"
      ]
     },
     "execution_count": 265,
     "metadata": {},
     "output_type": "execute_result"
    }
   ],
   "source": [
    "df.head()"
   ]
  },
  {
   "cell_type": "code",
   "execution_count": 266,
   "id": "68778a1c-74c5-4231-bae0-f36d505dbc69",
   "metadata": {
    "tags": []
   },
   "outputs": [
    {
     "name": "stdout",
     "output_type": "stream",
     "text": [
      "<class 'pandas.core.frame.DataFrame'>\n",
      "Int64Index: 1008638 entries, 44795 to 20892\n",
      "Data columns (total 5 columns):\n",
      " #   Column            Non-Null Count    Dtype         \n",
      "---  ------            --------------    -----         \n",
      " 0   Product_Code      1008638 non-null  object        \n",
      " 1   Warehouse         1008638 non-null  object        \n",
      " 2   Product_Category  1008638 non-null  object        \n",
      " 3   Date              1008638 non-null  datetime64[ns]\n",
      " 4   Order_Demand      1008638 non-null  int64         \n",
      "dtypes: datetime64[ns](1), int64(1), object(3)\n",
      "memory usage: 46.2+ MB\n"
     ]
    }
   ],
   "source": [
    "df.info()"
   ]
  },
  {
   "cell_type": "code",
   "execution_count": 267,
   "id": "ab7575bf-21a1-47ba-adbd-26b52eb7e110",
   "metadata": {
    "tags": []
   },
   "outputs": [
    {
     "data": {
      "text/html": [
       "<div>\n",
       "<style scoped>\n",
       "    .dataframe tbody tr th:only-of-type {\n",
       "        vertical-align: middle;\n",
       "    }\n",
       "\n",
       "    .dataframe tbody tr th {\n",
       "        vertical-align: top;\n",
       "    }\n",
       "\n",
       "    .dataframe thead th {\n",
       "        text-align: right;\n",
       "    }\n",
       "</style>\n",
       "<table border=\"1\" class=\"dataframe\">\n",
       "  <thead>\n",
       "    <tr style=\"text-align: right;\">\n",
       "      <th></th>\n",
       "      <th>Product_Code</th>\n",
       "      <th>Warehouse</th>\n",
       "      <th>Product_Category</th>\n",
       "      <th>Date</th>\n",
       "      <th>Order_Demand</th>\n",
       "    </tr>\n",
       "  </thead>\n",
       "  <tbody>\n",
       "    <tr>\n",
       "      <th>44795</th>\n",
       "      <td>Product_0965</td>\n",
       "      <td>Whse_A</td>\n",
       "      <td>Category_006</td>\n",
       "      <td>2011-11-18</td>\n",
       "      <td>1</td>\n",
       "    </tr>\n",
       "    <tr>\n",
       "      <th>93055</th>\n",
       "      <td>Product_0504</td>\n",
       "      <td>Whse_J</td>\n",
       "      <td>Category_015</td>\n",
       "      <td>2011-12-05</td>\n",
       "      <td>1</td>\n",
       "    </tr>\n",
       "    <tr>\n",
       "      <th>130643</th>\n",
       "      <td>Product_2165</td>\n",
       "      <td>Whse_C</td>\n",
       "      <td>Category_024</td>\n",
       "      <td>2011-12-06</td>\n",
       "      <td>1</td>\n",
       "    </tr>\n",
       "    <tr>\n",
       "      <th>37485</th>\n",
       "      <td>Product_1699</td>\n",
       "      <td>Whse_J</td>\n",
       "      <td>Category_026</td>\n",
       "      <td>2011-12-07</td>\n",
       "      <td>1</td>\n",
       "    </tr>\n",
       "    <tr>\n",
       "      <th>77277</th>\n",
       "      <td>Product_1680</td>\n",
       "      <td>Whse_S</td>\n",
       "      <td>Category_021</td>\n",
       "      <td>2011-12-09</td>\n",
       "      <td>1</td>\n",
       "    </tr>\n",
       "  </tbody>\n",
       "</table>\n",
       "</div>"
      ],
      "text/plain": [
       "        Product_Code Warehouse Product_Category       Date  Order_Demand\n",
       "44795   Product_0965    Whse_A     Category_006 2011-11-18             1\n",
       "93055   Product_0504    Whse_J     Category_015 2011-12-05             1\n",
       "130643  Product_2165    Whse_C     Category_024 2011-12-06             1\n",
       "37485   Product_1699    Whse_J     Category_026 2011-12-07             1\n",
       "77277   Product_1680    Whse_S     Category_021 2011-12-09             1"
      ]
     },
     "execution_count": 267,
     "metadata": {},
     "output_type": "execute_result"
    }
   ],
   "source": [
    "df.head()"
   ]
  },
  {
   "cell_type": "code",
   "execution_count": 268,
   "id": "f41947ea-ef25-4ff9-b0b2-d0aeadc2f3d6",
   "metadata": {
    "tags": []
   },
   "outputs": [],
   "source": [
    "# insert new column (New_ID) for incremental numbers will need in order to remove negative-positive pairs. \n",
    "df.insert(0,\"New_ID\",range(0,len(df)))"
   ]
  },
  {
   "cell_type": "code",
   "execution_count": 269,
   "id": "c9de5905-dcac-472b-9be8-ef49d5c109c4",
   "metadata": {
    "tags": []
   },
   "outputs": [
    {
     "data": {
      "text/html": [
       "<div>\n",
       "<style scoped>\n",
       "    .dataframe tbody tr th:only-of-type {\n",
       "        vertical-align: middle;\n",
       "    }\n",
       "\n",
       "    .dataframe tbody tr th {\n",
       "        vertical-align: top;\n",
       "    }\n",
       "\n",
       "    .dataframe thead th {\n",
       "        text-align: right;\n",
       "    }\n",
       "</style>\n",
       "<table border=\"1\" class=\"dataframe\">\n",
       "  <thead>\n",
       "    <tr style=\"text-align: right;\">\n",
       "      <th></th>\n",
       "      <th>New_ID</th>\n",
       "      <th>Product_Code</th>\n",
       "      <th>Warehouse</th>\n",
       "      <th>Product_Category</th>\n",
       "      <th>Date</th>\n",
       "      <th>Order_Demand</th>\n",
       "    </tr>\n",
       "  </thead>\n",
       "  <tbody>\n",
       "    <tr>\n",
       "      <th>44795</th>\n",
       "      <td>0</td>\n",
       "      <td>Product_0965</td>\n",
       "      <td>Whse_A</td>\n",
       "      <td>Category_006</td>\n",
       "      <td>2011-11-18</td>\n",
       "      <td>1</td>\n",
       "    </tr>\n",
       "    <tr>\n",
       "      <th>93055</th>\n",
       "      <td>1</td>\n",
       "      <td>Product_0504</td>\n",
       "      <td>Whse_J</td>\n",
       "      <td>Category_015</td>\n",
       "      <td>2011-12-05</td>\n",
       "      <td>1</td>\n",
       "    </tr>\n",
       "    <tr>\n",
       "      <th>130643</th>\n",
       "      <td>2</td>\n",
       "      <td>Product_2165</td>\n",
       "      <td>Whse_C</td>\n",
       "      <td>Category_024</td>\n",
       "      <td>2011-12-06</td>\n",
       "      <td>1</td>\n",
       "    </tr>\n",
       "    <tr>\n",
       "      <th>37485</th>\n",
       "      <td>3</td>\n",
       "      <td>Product_1699</td>\n",
       "      <td>Whse_J</td>\n",
       "      <td>Category_026</td>\n",
       "      <td>2011-12-07</td>\n",
       "      <td>1</td>\n",
       "    </tr>\n",
       "    <tr>\n",
       "      <th>77277</th>\n",
       "      <td>4</td>\n",
       "      <td>Product_1680</td>\n",
       "      <td>Whse_S</td>\n",
       "      <td>Category_021</td>\n",
       "      <td>2011-12-09</td>\n",
       "      <td>1</td>\n",
       "    </tr>\n",
       "    <tr>\n",
       "      <th>...</th>\n",
       "      <td>...</td>\n",
       "      <td>...</td>\n",
       "      <td>...</td>\n",
       "      <td>...</td>\n",
       "      <td>...</td>\n",
       "      <td>...</td>\n",
       "    </tr>\n",
       "    <tr>\n",
       "      <th>258396</th>\n",
       "      <td>1008633</td>\n",
       "      <td>Product_1248</td>\n",
       "      <td>Whse_J</td>\n",
       "      <td>Category_019</td>\n",
       "      <td>2013-11-11</td>\n",
       "      <td>2560000</td>\n",
       "    </tr>\n",
       "    <tr>\n",
       "      <th>72638</th>\n",
       "      <td>1008634</td>\n",
       "      <td>Product_1341</td>\n",
       "      <td>Whse_C</td>\n",
       "      <td>Category_019</td>\n",
       "      <td>2012-02-06</td>\n",
       "      <td>3000000</td>\n",
       "    </tr>\n",
       "    <tr>\n",
       "      <th>20477</th>\n",
       "      <td>1008635</td>\n",
       "      <td>Product_1248</td>\n",
       "      <td>Whse_J</td>\n",
       "      <td>Category_019</td>\n",
       "      <td>2012-07-05</td>\n",
       "      <td>3000000</td>\n",
       "    </tr>\n",
       "    <tr>\n",
       "      <th>222266</th>\n",
       "      <td>1008636</td>\n",
       "      <td>Product_1432</td>\n",
       "      <td>Whse_S</td>\n",
       "      <td>Category_019</td>\n",
       "      <td>2013-06-14</td>\n",
       "      <td>3000000</td>\n",
       "    </tr>\n",
       "    <tr>\n",
       "      <th>20892</th>\n",
       "      <td>1008637</td>\n",
       "      <td>Product_1432</td>\n",
       "      <td>Whse_S</td>\n",
       "      <td>Category_019</td>\n",
       "      <td>2012-06-11</td>\n",
       "      <td>4000000</td>\n",
       "    </tr>\n",
       "  </tbody>\n",
       "</table>\n",
       "<p>1008638 rows × 6 columns</p>\n",
       "</div>"
      ],
      "text/plain": [
       "         New_ID  Product_Code Warehouse Product_Category       Date  \\\n",
       "44795         0  Product_0965    Whse_A     Category_006 2011-11-18   \n",
       "93055         1  Product_0504    Whse_J     Category_015 2011-12-05   \n",
       "130643        2  Product_2165    Whse_C     Category_024 2011-12-06   \n",
       "37485         3  Product_1699    Whse_J     Category_026 2011-12-07   \n",
       "77277         4  Product_1680    Whse_S     Category_021 2011-12-09   \n",
       "...         ...           ...       ...              ...        ...   \n",
       "258396  1008633  Product_1248    Whse_J     Category_019 2013-11-11   \n",
       "72638   1008634  Product_1341    Whse_C     Category_019 2012-02-06   \n",
       "20477   1008635  Product_1248    Whse_J     Category_019 2012-07-05   \n",
       "222266  1008636  Product_1432    Whse_S     Category_019 2013-06-14   \n",
       "20892   1008637  Product_1432    Whse_S     Category_019 2012-06-11   \n",
       "\n",
       "        Order_Demand  \n",
       "44795              1  \n",
       "93055              1  \n",
       "130643             1  \n",
       "37485              1  \n",
       "77277              1  \n",
       "...              ...  \n",
       "258396       2560000  \n",
       "72638        3000000  \n",
       "20477        3000000  \n",
       "222266       3000000  \n",
       "20892        4000000  \n",
       "\n",
       "[1008638 rows x 6 columns]"
      ]
     },
     "execution_count": 269,
     "metadata": {},
     "output_type": "execute_result"
    }
   ],
   "source": [
    "df"
   ]
  },
  {
   "cell_type": "code",
   "execution_count": 270,
   "id": "c8a89de8-8827-4c6e-b85a-2cc146f37439",
   "metadata": {
    "tags": []
   },
   "outputs": [
    {
     "name": "stdout",
     "output_type": "stream",
     "text": [
      "Total rows to be removed is 11746\n"
     ]
    }
   ],
   "source": [
    "# Create an empty list to store New_IDs corresponding to negative values and their possitive pairs as they will be in \"New_ID-1\" row\n",
    "new_ids_for_negatives = []\n",
    "\n",
    "# Iterate through series_negative_pairs\n",
    "for index_negative, _ in series_negative_pairs:\n",
    "    # Find the corresponding New_ID using loc\n",
    "    new_id = df.loc[df.index == index_negative, 'New_ID'].values[0]\n",
    "    new_ids_for_negatives.append(new_id)\n",
    "    new_ids_for_negatives.append(new_id-1)\n",
    "\n",
    "print(f\"Total rows to be removed is {len(new_ids_for_negatives)}\")"
   ]
  },
  {
   "cell_type": "code",
   "execution_count": 271,
   "id": "13ff1e92-9738-454e-94a3-fa0b7b3dedc5",
   "metadata": {},
   "outputs": [],
   "source": [
    "# now removing rows where New_IDs are in new_ids_for_negatives\n",
    "\n",
    "# Create a boolean mask to filter rows based on New_ID\n",
    "mask = df['New_ID'].isin(new_ids_for_negatives)\n",
    "\n",
    "# Use the mask to filter the DataFrame and keep rows where New_ID is not in the list\n",
    "df = df[~mask]\n"
   ]
  },
  {
   "cell_type": "code",
   "execution_count": 272,
   "id": "0eff3fea-d7c8-4d0d-9f65-4def4a53480f",
   "metadata": {
    "tags": []
   },
   "outputs": [],
   "source": [
    "# now we can drop New_ID column as it was created to remove negative-positive pairs\n",
    "df=df.drop('New_ID',axis=1)"
   ]
  },
  {
   "cell_type": "code",
   "execution_count": 273,
   "id": "dd8fe124-0311-4168-92ed-2d4645946636",
   "metadata": {
    "tags": []
   },
   "outputs": [
    {
     "name": "stdout",
     "output_type": "stream",
     "text": [
      "<class 'pandas.core.frame.DataFrame'>\n",
      "Int64Index: 997700 entries, 44795 to 20892\n",
      "Data columns (total 5 columns):\n",
      " #   Column            Non-Null Count   Dtype         \n",
      "---  ------            --------------   -----         \n",
      " 0   Product_Code      997700 non-null  object        \n",
      " 1   Warehouse         997700 non-null  object        \n",
      " 2   Product_Category  997700 non-null  object        \n",
      " 3   Date              997700 non-null  datetime64[ns]\n",
      " 4   Order_Demand      997700 non-null  int64         \n",
      "dtypes: datetime64[ns](1), int64(1), object(3)\n",
      "memory usage: 45.7+ MB\n"
     ]
    }
   ],
   "source": [
    "df.info()"
   ]
  },
  {
   "cell_type": "code",
   "execution_count": 274,
   "id": "41c5d6ba-1e7e-46a4-97c3-d4a89254d407",
   "metadata": {
    "tags": []
   },
   "outputs": [
    {
     "data": {
      "text/plain": [
       "(997700, 5)"
      ]
     },
     "execution_count": 274,
     "metadata": {},
     "output_type": "execute_result"
    }
   ],
   "source": [
    "df.shape"
   ]
  },
  {
   "cell_type": "code",
   "execution_count": 275,
   "id": "47c3473e-9d95-4e00-94ac-152fda12cb7e",
   "metadata": {
    "tags": []
   },
   "outputs": [],
   "source": [
    "# Saving cleanned dataframe to a new CSV file\n",
    "df.to_csv('Historical_Product_Demand_Cleaned.csv',index=False)"
   ]
  },
  {
   "cell_type": "code",
   "execution_count": null,
   "id": "e164f77c-839d-4775-9135-8642d54e0325",
   "metadata": {},
   "outputs": [],
   "source": []
  }
 ],
 "metadata": {
  "kernelspec": {
   "display_name": "Python 3 (ipykernel)",
   "language": "python",
   "name": "python3"
  },
  "language_info": {
   "codemirror_mode": {
    "name": "ipython",
    "version": 3
   },
   "file_extension": ".py",
   "mimetype": "text/x-python",
   "name": "python",
   "nbconvert_exporter": "python",
   "pygments_lexer": "ipython3",
   "version": "3.11.3"
  }
 },
 "nbformat": 4,
 "nbformat_minor": 5
}
